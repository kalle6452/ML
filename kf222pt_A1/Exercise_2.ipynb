{
 "cells": [
  {
   "cell_type": "code",
   "execution_count": 124,
   "metadata": {},
   "outputs": [],
   "source": [
    "from mlxtend.plotting import plot_decision_regions\n",
    "import numpy as np\n",
    "import pandas as pd\n",
    "import matplotlib.pyplot as plt\n",
    "from matplotlib.colors import ListedColormap\n",
    "from statistics import mode, multimode"
   ]
  },
  {
   "cell_type": "code",
   "execution_count": 125,
   "metadata": {},
   "outputs": [],
   "source": [
    "df = pd.read_csv('A1_datasets/A1_datasets/polynomial200.csv')\n",
    "df.columns = ['A', 'B']\n",
    "df.loc[-1] = [17.685688, 39.256887]  \n",
    "df.index = df.index + 1  \n",
    "df.sort_index(inplace=True) "
   ]
  },
  {
   "cell_type": "code",
   "execution_count": 126,
   "metadata": {},
   "outputs": [],
   "source": [
    " #Train-test split\n",
    "#X_train = df['A'].iloc[0:100]\n",
    "#X_train = X_train.values\n",
    "#X_test = df['A'].iloc[101:200]\n",
    "#X_test = X_test.values\n",
    "#y_train = df['B'].iloc[0:100]\n",
    "#y_train = y_train.values\n",
    "#y_test = df['B'].iloc[101:200]\n",
    "#y_test = y_test.values"
   ]
  },
  {
   "cell_type": "code",
   "execution_count": 127,
   "metadata": {},
   "outputs": [],
   "source": [
    "X_train = df['A'].iloc[0:100]\n",
    "X_train = X_train.values\n",
    "X_test = df['A'].iloc[100:201]\n",
    "X_test = X_test.values\n",
    "y_train = df['B'].iloc[0:100]\n",
    "y_train = y_train.values\n",
    "y_test = df['B'].iloc[100:201]\n",
    "y_test = y_test.values"
   ]
  },
  {
   "cell_type": "code",
   "execution_count": 128,
   "metadata": {},
   "outputs": [
    {
     "data": {
      "text/plain": [
       "100"
      ]
     },
     "execution_count": 128,
     "metadata": {},
     "output_type": "execute_result"
    }
   ],
   "source": [
    "X_train.size"
   ]
  },
  {
   "cell_type": "code",
   "execution_count": 129,
   "metadata": {},
   "outputs": [
    {
     "data": {
      "image/png": "[encoded data removed]",
      "text/plain": [
       "<Figure size 432x288 with 2 Axes>"
      ]
     },
     "metadata": {
      "needs_background": "light"
     },
     "output_type": "display_data"
    }
   ],
   "source": [
    "# Plot side by side\n",
    "plt.subplot(1, 2, 1)\n",
    "plt.scatter(X_train ,y_train)\n",
    "plt.subplot(1, 2, 2)\n",
    "plt.scatter(X_test,y_test)\n",
    "plt.show()"
   ]
  },
  {
   "cell_type": "code",
   "execution_count": 145,
   "metadata": {},
   "outputs": [],
   "source": [
    "y_train = np.log(y_train)\n",
    "y_train\n",
    "X_train_mean = X_train.mean()\n",
    "X_train_sd = X_train.std()\n",
    "X_train_st = (X_train - X_train_mean) / X_train_sd\n",
    "#bordeaux_train[\"log(price)\"] = np.log(bordeaux_train[\"price\"])"
   ]
  },
  {
   "cell_type": "code",
   "execution_count": 153,
   "metadata": {},
   "outputs": [
    {
     "ename": "AttributeError",
     "evalue": "'numpy.float64' object has no attribute 'sort_values'",
     "output_type": "error",
     "traceback": [
      "\u001b[0;31m---------------------------------------------------------------------------\u001b[0m",
      "\u001b[0;31mAttributeError\u001b[0m                            Traceback (most recent call last)",
      "\u001b[0;32m/tmp/ipykernel_672682/739029149.py\u001b[0m in \u001b[0;36m<module>\u001b[0;34m\u001b[0m\n\u001b[1;32m      1\u001b[0m \u001b[0mdists\u001b[0m \u001b[0;34m=\u001b[0m \u001b[0mnp\u001b[0m\u001b[0;34m.\u001b[0m\u001b[0mlinalg\u001b[0m\u001b[0;34m.\u001b[0m\u001b[0mnorm\u001b[0m\u001b[0;34m(\u001b[0m\u001b[0mX_train_st\u001b[0m \u001b[0;34m-\u001b[0m \u001b[0mX_test\u001b[0m\u001b[0;34m)\u001b[0m\u001b[0;34m\u001b[0m\u001b[0;34m\u001b[0m\u001b[0m\n\u001b[0;32m----> 2\u001b[0;31m \u001b[0mi_nearest\u001b[0m \u001b[0;34m=\u001b[0m \u001b[0mdists\u001b[0m\u001b[0;34m.\u001b[0m\u001b[0msort_values\u001b[0m\u001b[0;34m(\u001b[0m\u001b[0;34m)\u001b[0m\u001b[0;34m.\u001b[0m\u001b[0mindex\u001b[0m\u001b[0;34m[\u001b[0m\u001b[0;34m:\u001b[0m\u001b[0;36m5\u001b[0m\u001b[0;34m]\u001b[0m\u001b[0;34m\u001b[0m\u001b[0;34m\u001b[0m\u001b[0m\n\u001b[0m",
      "\u001b[0;31mAttributeError\u001b[0m: 'numpy.float64' object has no attribute 'sort_values'"
     ]
    }
   ],
   "source": [
    "#dists = np.linalg.norm(X_train_st - X_test)\n",
    "#i_nearest = dists.sort_values().index[:5]"
   ]
  },
  {
   "cell_type": "code",
   "execution_count": 154,
   "metadata": {},
   "outputs": [
    {
     "name": "stdout",
     "output_type": "stream",
     "text": [
      "73.86622505230974\n",
      "69.02545712174785\n",
      "103.6366568967463\n",
      "69.70347571026291\n",
      "93.26708361863703\n",
      "75.01342044757213\n",
      "73.78007143836385\n",
      "77.34565221947975\n",
      "91.7090304359351\n",
      "130.69350420433202\n",
      "82.20547609059443\n",
      "71.64651811985068\n",
      "117.98218422592595\n",
      "132.7864240410292\n",
      "106.44204922056929\n",
      "122.96566950360409\n",
      "133.4185316475597\n",
      "84.88378157770406\n",
      "90.59623347892644\n",
      "68.93630368349373\n",
      "131.76579700154247\n",
      "135.82234020095692\n",
      "97.700947242708\n",
      "124.3334060442358\n",
      "69.19195632299053\n",
      "72.23128177110907\n",
      "92.0805123307746\n",
      "107.87458080027349\n",
      "79.76715772449117\n",
      "71.51896929020616\n",
      "73.07546219844807\n",
      "122.99245976149405\n",
      "71.27097929858866\n",
      "95.17421403420441\n",
      "103.39641924188666\n",
      "100.13361857066023\n",
      "72.68972428353096\n",
      "86.2527855495555\n",
      "130.43699847568922\n",
      "72.74349746528105\n",
      "91.04586221619437\n",
      "80.9278350401709\n",
      "126.83679789851048\n",
      "102.93625734834617\n",
      "69.59731167086149\n",
      "75.14178829584395\n",
      "70.125153351266\n",
      "120.31794701432499\n",
      "115.03944114787411\n",
      "101.39561923400997\n",
      "81.99258285920935\n",
      "97.27561995331735\n",
      "98.87451926092704\n",
      "99.08289315569176\n",
      "99.77521852632103\n",
      "69.25918712962904\n",
      "97.12790727245428\n",
      "69.97754492989885\n",
      "103.28553627171313\n",
      "128.8688573674136\n",
      "68.57317257886375\n",
      "74.13614988402993\n",
      "70.16099930620267\n",
      "72.06568435000108\n",
      "81.16372609296144\n",
      "135.31886397999236\n",
      "94.13307576786808\n",
      "73.56686041091498\n",
      "137.40220714899885\n",
      "70.72948283069339\n",
      "94.9196918431838\n",
      "85.4453843203102\n",
      "111.87006891533764\n",
      "75.10884849001582\n",
      "68.66696994926217\n",
      "69.31616498590334\n",
      "98.27423727023351\n",
      "116.13471144197128\n",
      "115.83576236060162\n",
      "95.83981142097231\n",
      "133.50074400548604\n",
      "118.91156916860255\n",
      "109.03372175069589\n",
      "129.14509714143077\n",
      "97.24507555412282\n",
      "70.29391660807194\n",
      "102.33683936335805\n",
      "71.35926001186161\n",
      "121.91509564055205\n",
      "110.58583513874275\n",
      "108.74163712548342\n",
      "96.54702467522691\n",
      "79.14162330471932\n",
      "119.63817554883664\n",
      "120.69743251866534\n",
      "85.81304962540563\n",
      "96.13594055747431\n",
      "77.23638173990294\n",
      "130.58515096596923\n",
      "104.12208932026398\n"
     ]
    },
    {
     "data": {
      "text/plain": [
       "[0.2625382781241161,\n",
       " 0.2625382781241161,\n",
       " 0.2625382781241161,\n",
       " 0.2625382781241161,\n",
       " 0.2625382781241161,\n",
       " 0.2625382781241161,\n",
       " 0.2625382781241161,\n",
       " 0.2625382781241161,\n",
       " 0.2625382781241161,\n",
       " 0.2625382781241161,\n",
       " 0.2625382781241161,\n",
       " 0.2625382781241161,\n",
       " 0.2625382781241161,\n",
       " 0.2625382781241161,\n",
       " 0.2625382781241161,\n",
       " 0.2625382781241161,\n",
       " 0.2625382781241161,\n",
       " 0.2625382781241161,\n",
       " 0.2625382781241161,\n",
       " 0.2625382781241161,\n",
       " 0.2625382781241161,\n",
       " 0.2625382781241161,\n",
       " 0.2625382781241161,\n",
       " 0.2625382781241161,\n",
       " 0.2625382781241161,\n",
       " 0.2625382781241161,\n",
       " 0.2625382781241161,\n",
       " 0.2625382781241161,\n",
       " 0.2625382781241161,\n",
       " 0.2625382781241161,\n",
       " 0.2625382781241161,\n",
       " 0.2625382781241161,\n",
       " 0.2625382781241161,\n",
       " 0.2625382781241161,\n",
       " 0.2625382781241161,\n",
       " 0.2625382781241161,\n",
       " 0.2625382781241161,\n",
       " 0.2625382781241161,\n",
       " 0.2625382781241161,\n",
       " 0.2625382781241161,\n",
       " 0.2625382781241161,\n",
       " 0.2625382781241161,\n",
       " 0.2625382781241161,\n",
       " 0.2625382781241161,\n",
       " 0.2625382781241161,\n",
       " 0.2625382781241161,\n",
       " 0.2625382781241161,\n",
       " 0.2625382781241161,\n",
       " 0.2625382781241161,\n",
       " 0.2625382781241161,\n",
       " 0.2625382781241161,\n",
       " 0.2625382781241161,\n",
       " 0.2625382781241161,\n",
       " 0.2625382781241161,\n",
       " 0.2625382781241161,\n",
       " 0.2625382781241161,\n",
       " 0.2625382781241161,\n",
       " 0.2625382781241161,\n",
       " 0.2625382781241161,\n",
       " 0.2625382781241161,\n",
       " 0.2625382781241161,\n",
       " 0.2625382781241161,\n",
       " 0.2625382781241161,\n",
       " 0.2625382781241161,\n",
       " 0.2625382781241161,\n",
       " 0.2625382781241161,\n",
       " 0.2625382781241161,\n",
       " 0.2625382781241161,\n",
       " 0.2625382781241161,\n",
       " 0.2625382781241161,\n",
       " 0.2625382781241161,\n",
       " 0.2625382781241161,\n",
       " 0.2625382781241161,\n",
       " 0.2625382781241161,\n",
       " 0.2625382781241161,\n",
       " 0.2625382781241161,\n",
       " 0.2625382781241161,\n",
       " 0.2625382781241161,\n",
       " 0.2625382781241161,\n",
       " 0.2625382781241161,\n",
       " 0.2625382781241161,\n",
       " 0.2625382781241161,\n",
       " 0.2625382781241161,\n",
       " 0.2625382781241161,\n",
       " 0.2625382781241161,\n",
       " 0.2625382781241161,\n",
       " 0.2625382781241161,\n",
       " 0.2625382781241161,\n",
       " 0.2625382781241161,\n",
       " 0.2625382781241161,\n",
       " 0.2625382781241161,\n",
       " 0.2625382781241161,\n",
       " 0.2625382781241161,\n",
       " 0.2625382781241161,\n",
       " 0.2625382781241161,\n",
       " 0.2625382781241161,\n",
       " 0.2625382781241161,\n",
       " 0.2625382781241161,\n",
       " 0.2625382781241161,\n",
       " 0.2625382781241161]"
      ]
     },
     "execution_count": 154,
     "metadata": {},
     "output_type": "execute_result"
    }
   ],
   "source": [
    "lista = []\n",
    "for row in range(len(X_test)):\n",
    "    distances = np.linalg.norm(X_train - X_test[row])\n",
    "    print(distances)\n",
    "    nearest_neighbor_ids1 = distances.argsort()[:1]\n",
    "    nearest_neighbor_rings1 = y_train[nearest_neighbor_ids1]\n",
    "    nearest_neighbor_rings1 = mode(nearest_neighbor_rings1)\n",
    "    lista.append(nearest_neighbor_rings1)\n",
    "lista"
   ]
  },
  {
   "cell_type": "code",
   "execution_count": 140,
   "metadata": {},
   "outputs": [
    {
     "name": "stdout",
     "output_type": "stream",
     "text": [
      "11.69939314263933\n"
     ]
    }
   ],
   "source": [
    "RMSE = np.sqrt(np.mean((y_test - lista)**2))\n",
    "print(RMSE)"
   ]
  },
  {
   "cell_type": "code",
   "execution_count": 142,
   "metadata": {},
   "outputs": [
    {
     "name": "stdout",
     "output_type": "stream",
     "text": [
      "11.69939314263933\n"
     ]
    }
   ],
   "source": [
    "n_neigh = 1\n",
    "y_pred = np.zeros(y_test.shape)\n",
    "for row in range(len(X_test)):\n",
    "    euclidian_distance = np.sqrt(np.sum((X_train - X_test[row])**2))\n",
    "    y_pred[row] = y_train[np.argsort(euclidian_distance, axis = 0)[:n_neigh]].mean()\n",
    "RMSE = np.sqrt(np.mean((y_test - y_pred)**2))\n",
    "print(RMSE)"
   ]
  },
  {
   "cell_type": "code",
   "execution_count": 132,
   "metadata": {},
   "outputs": [],
   "source": [
    "lista = []\n",
    "for row in range(len(X_test)):\n",
    "    distances = np.linalg.norm(X_train - X_test)\n",
    "    nearest_neighbor_ids1 = distances.argsort()[:5]\n",
    "    nearest_neighbor_rings1 = y_train[nearest_neighbor_ids1]\n",
    "    nearest_neighbor_rings1 = mode(nearest_neighbor_rings1)\n",
    "    lista.append(nearest_neighbor_rings1)"
   ]
  },
  {
   "cell_type": "code",
   "execution_count": null,
   "metadata": {},
   "outputs": [],
   "source": []
  },
  {
   "cell_type": "code",
   "execution_count": 133,
   "metadata": {},
   "outputs": [
    {
     "data": {
      "text/plain": [
       "[39.256887,\n",
       " 39.256887,\n",
       " 39.256887,\n",
       " 39.256887,\n",
       " 39.256887,\n",
       " 39.256887,\n",
       " 39.256887,\n",
       " 39.256887,\n",
       " 39.256887,\n",
       " 39.256887,\n",
       " 39.256887,\n",
       " 39.256887,\n",
       " 39.256887,\n",
       " 39.256887,\n",
       " 39.256887,\n",
       " 39.256887,\n",
       " 39.256887,\n",
       " 39.256887,\n",
       " 39.256887,\n",
       " 39.256887,\n",
       " 39.256887,\n",
       " 39.256887,\n",
       " 39.256887,\n",
       " 39.256887,\n",
       " 39.256887,\n",
       " 39.256887,\n",
       " 39.256887,\n",
       " 39.256887,\n",
       " 39.256887,\n",
       " 39.256887,\n",
       " 39.256887,\n",
       " 39.256887,\n",
       " 39.256887,\n",
       " 39.256887,\n",
       " 39.256887,\n",
       " 39.256887,\n",
       " 39.256887,\n",
       " 39.256887,\n",
       " 39.256887,\n",
       " 39.256887,\n",
       " 39.256887,\n",
       " 39.256887,\n",
       " 39.256887,\n",
       " 39.256887,\n",
       " 39.256887,\n",
       " 39.256887,\n",
       " 39.256887,\n",
       " 39.256887,\n",
       " 39.256887,\n",
       " 39.256887,\n",
       " 39.256887,\n",
       " 39.256887,\n",
       " 39.256887,\n",
       " 39.256887,\n",
       " 39.256887,\n",
       " 39.256887,\n",
       " 39.256887,\n",
       " 39.256887,\n",
       " 39.256887,\n",
       " 39.256887,\n",
       " 39.256887,\n",
       " 39.256887,\n",
       " 39.256887,\n",
       " 39.256887,\n",
       " 39.256887,\n",
       " 39.256887,\n",
       " 39.256887,\n",
       " 39.256887,\n",
       " 39.256887,\n",
       " 39.256887,\n",
       " 39.256887,\n",
       " 39.256887,\n",
       " 39.256887,\n",
       " 39.256887,\n",
       " 39.256887,\n",
       " 39.256887,\n",
       " 39.256887,\n",
       " 39.256887,\n",
       " 39.256887,\n",
       " 39.256887,\n",
       " 39.256887,\n",
       " 39.256887,\n",
       " 39.256887,\n",
       " 39.256887,\n",
       " 39.256887,\n",
       " 39.256887,\n",
       " 39.256887,\n",
       " 39.256887,\n",
       " 39.256887,\n",
       " 39.256887,\n",
       " 39.256887,\n",
       " 39.256887,\n",
       " 39.256887,\n",
       " 39.256887,\n",
       " 39.256887,\n",
       " 39.256887,\n",
       " 39.256887,\n",
       " 39.256887,\n",
       " 39.256887,\n",
       " 39.256887]"
      ]
     },
     "execution_count": 133,
     "metadata": {},
     "output_type": "execute_result"
    }
   ],
   "source": [
    "lista"
   ]
  },
  {
   "cell_type": "code",
   "execution_count": 134,
   "metadata": {},
   "outputs": [
    {
     "ename": "NameError",
     "evalue": "name 'X' is not defined",
     "output_type": "error",
     "traceback": [
      "\u001b[0;31m---------------------------------------------------------------------------\u001b[0m",
      "\u001b[0;31mNameError\u001b[0m                                 Traceback (most recent call last)",
      "\u001b[0;32m/tmp/ipykernel_672682/2917641780.py\u001b[0m in \u001b[0;36m<module>\u001b[0;34m\u001b[0m\n\u001b[1;32m      2\u001b[0m \u001b[0mk\u001b[0m \u001b[0;34m=\u001b[0m \u001b[0;36m3\u001b[0m\u001b[0;34m\u001b[0m\u001b[0;34m\u001b[0m\u001b[0m\n\u001b[1;32m      3\u001b[0m \u001b[0;32mfor\u001b[0m \u001b[0mindex\u001b[0m\u001b[0;34m,\u001b[0m \u001b[0mrow\u001b[0m \u001b[0;32min\u001b[0m \u001b[0mdf\u001b[0m\u001b[0;34m.\u001b[0m\u001b[0miterrows\u001b[0m\u001b[0;34m(\u001b[0m\u001b[0;34m)\u001b[0m\u001b[0;34m:\u001b[0m\u001b[0;34m\u001b[0m\u001b[0;34m\u001b[0m\u001b[0m\n\u001b[0;32m----> 4\u001b[0;31m     \u001b[0mdistances1\u001b[0m \u001b[0;34m=\u001b[0m \u001b[0mnp\u001b[0m\u001b[0;34m.\u001b[0m\u001b[0mlinalg\u001b[0m\u001b[0;34m.\u001b[0m\u001b[0mnorm\u001b[0m\u001b[0;34m(\u001b[0m\u001b[0mX\u001b[0m \u001b[0;34m-\u001b[0m \u001b[0mrow\u001b[0m\u001b[0;34m[\u001b[0m\u001b[0;34m[\u001b[0m\u001b[0;34m'A'\u001b[0m\u001b[0;34m,\u001b[0m \u001b[0;34m'B'\u001b[0m\u001b[0;34m]\u001b[0m\u001b[0;34m]\u001b[0m\u001b[0;34m,\u001b[0m \u001b[0maxis\u001b[0m\u001b[0;34m=\u001b[0m\u001b[0;36m1\u001b[0m\u001b[0;34m)\u001b[0m\u001b[0;34m\u001b[0m\u001b[0;34m\u001b[0m\u001b[0m\n\u001b[0m\u001b[1;32m      5\u001b[0m     \u001b[0mnearest_neighbor_ids1\u001b[0m \u001b[0;34m=\u001b[0m \u001b[0mdistances1\u001b[0m\u001b[0;34m.\u001b[0m\u001b[0margsort\u001b[0m\u001b[0;34m(\u001b[0m\u001b[0;34m)\u001b[0m\u001b[0;34m[\u001b[0m\u001b[0;34m:\u001b[0m\u001b[0mk\u001b[0m\u001b[0;34m]\u001b[0m\u001b[0;34m\u001b[0m\u001b[0;34m\u001b[0m\u001b[0m\n\u001b[1;32m      6\u001b[0m     \u001b[0mnearest_neighbor_rings1\u001b[0m \u001b[0;34m=\u001b[0m \u001b[0my\u001b[0m\u001b[0;34m[\u001b[0m\u001b[0mnearest_neighbor_ids1\u001b[0m\u001b[0;34m]\u001b[0m\u001b[0;34m\u001b[0m\u001b[0;34m\u001b[0m\u001b[0m\n",
      "\u001b[0;31mNameError\u001b[0m: name 'X' is not defined"
     ]
    }
   ],
   "source": [
    "lista = []\n",
    "k = 3\n",
    "for index, row in df.iterrows():\n",
    "    distances1 = np.linalg.norm(X - row[['A', 'B']], axis=1)\n",
    "    nearest_neighbor_ids1 = distances1.argsort()[:k]\n",
    "    nearest_neighbor_rings1 = y[nearest_neighbor_ids1]\n",
    "    nearest_neighbor_rings1 = mode(nearest_neighbor_rings1)\n",
    "    lista.append(nearest_neighbor_rings1)"
   ]
  }
 ],
 "metadata": {
  "kernelspec": {
   "display_name": "Python 3 (ipykernel)",
   "language": "python",
   "name": "python3"
  },
  "language_info": {
   "codemirror_mode": {
    "name": "ipython",
    "version": 3
   },
   "file_extension": ".py",
   "mimetype": "text/x-python",
   "name": "python",
   "nbconvert_exporter": "python",
   "pygments_lexer": "ipython3",
   "version": "3.10.12"
  }
 },
 "nbformat": 4,
 "nbformat_minor": 4
}
