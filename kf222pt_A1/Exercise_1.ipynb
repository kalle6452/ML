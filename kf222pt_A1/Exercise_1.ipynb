{
 "cells": [
  {
   "cell_type": "code",
   "execution_count": 17,
   "metadata": {},
   "outputs": [],
   "source": [
    "# Note, I'm not finished with assignment, see references for more details.\n",
    "import numpy as np\n",
    "import pandas as pd\n",
    "import matplotlib.pyplot as plt\n",
    "from matplotlib.colors import ListedColormap\n",
    "from statistics import mode, multimode\n",
    "from mlxtend.plotting import plot_decision_regions"
   ]
  },
  {
   "cell_type": "code",
   "execution_count": 18,
   "metadata": {},
   "outputs": [],
   "source": [
    "#!pip install mlxtend"
   ]
  },
  {
   "cell_type": "code",
   "execution_count": 19,
   "metadata": {},
   "outputs": [],
   "source": [
    "# Exercise 1\n",
    "# 1. Plot\n",
    "# Read the file\n",
    "df = pd.read_csv('A1_datasets/A1_datasets/microchips.csv')\n",
    "df = df.astype('float')"
   ]
  },
  {
   "cell_type": "code",
   "execution_count": 20,
   "metadata": {},
   "outputs": [],
   "source": [
    "# The first row had values but were seen as names for the columns.\n",
    "# I added a new row with A, B, C so that the values could be used for prediction.\n",
    "df.columns = ['A', 'B', 'C']\n",
    "df.loc[-1] = [0.051267, 0.69956, 1]  \n",
    "df.index = df.index + 1 \n",
    "df.sort_index(inplace=True) \n",
    "fail0 = df[(df.C==0)]\n",
    "x0 = fail0[['A']] \n",
    "y0 = fail0[[\"B\"]]\n",
    "ok1 = df[(df.C==1)]\n",
    "x1 = ok1[['A']] \n",
    "y1 = ok1[[\"B\"]]"
   ]
  },
  {
   "cell_type": "code",
   "execution_count": 21,
   "metadata": {},
   "outputs": [
    {
     "data": {
      "image/png": "[encoded data removed]",
      "text/plain": [
       "<Figure size 432x288 with 1 Axes>"
      ]
     },
     "metadata": {
      "needs_background": "light"
     },
     "output_type": "display_data"
    }
   ],
   "source": [
    "# Plotting datapoints\n",
    "plt.scatter(x0, y0, color='red')\n",
    "plt.scatter(x1,y1, color='green')\n",
    "plt.legend([\"Fail\" , \"OK\"])\n",
    "plt.show()"
   ]
  },
  {
   "cell_type": "code",
   "execution_count": 22,
   "metadata": {},
   "outputs": [],
   "source": [
    "# 2. Implement and use knn\n",
    "# Points that were given in exercise\n",
    "microchip1 = np.array([\n",
    "-0.3, 1.0])\n",
    "microchip2 = np.array([-0.5, -0.1])\n",
    "microchip3 = np.array([0.6, 0])"
   ]
  },
  {
   "cell_type": "code",
   "execution_count": 23,
   "metadata": {},
   "outputs": [
    {
     "data": {
      "text/plain": [
       "118"
      ]
     },
     "execution_count": 23,
     "metadata": {},
     "output_type": "execute_result"
    }
   ],
   "source": [
    "X = df[['A', 'B']]\n",
    "y = df['C']\n",
    "y.size"
   ]
  },
  {
   "cell_type": "code",
   "execution_count": 24,
   "metadata": {},
   "outputs": [],
   "source": [
    "# Finding euclidean distances, i.e. using euclidean formula to\n",
    "# find vector length so that we can find closest neighbours.\n",
    "distances1 = np.linalg.norm(X - microchip1, axis=1)\n",
    "distances2 = np.linalg.norm(X - microchip2, axis=1)\n",
    "distances3 = np.linalg.norm(X - microchip3, axis=1)"
   ]
  },
  {
   "cell_type": "code",
   "execution_count": 25,
   "metadata": {},
   "outputs": [
    {
     "name": "stdout",
     "output_type": "stream",
     "text": [
      "k = 1\n",
      "[30]\n",
      "chip1: [-0.3, 1.0]: ==> OK\n",
      "chip2: [-0.5, -0.1]: ==> Fail\n",
      "chip3: [0.6, 0.0]: ==> Fail\n",
      "k = 3\n",
      "[ 30  89 115]\n",
      "chip1: [-0.3, 1.0]: ==> Fail\n",
      "chip2: [-0.5, -0.1]: ==> Fail\n",
      "chip3: [0.6, 0.0]: ==> OK\n",
      "k = 5\n",
      "[ 30  89 115  94  29]\n",
      "chip1: [-0.3, 1.0]: ==> Fail\n",
      "chip2: [-0.5, -0.1]: ==> OK\n",
      "chip3: [0.6, 0.0]: ==> OK\n",
      "k = 7\n",
      "[ 30  89 115  94  29  90  31]\n",
      "chip1: [-0.3, 1.0]: ==> Fail\n",
      "chip2: [-0.5, -0.1]: ==> Fail\n",
      "chip3: [0.6, 0.0]: ==> OK\n"
     ]
    }
   ],
   "source": [
    "# Find knn\n",
    "# We use argsort to find the points that are closest to our new point.\n",
    "# nearest_neighbors_rings represent what values these points have.\n",
    "# For classification, the neighbouring points that occur the most\n",
    "# will give their value to the new point, this is done with the mode function.\n",
    "\n",
    "lista = [1, 3, 5, 7]\n",
    "for k in lista:\n",
    "    print(f'k = {k}')\n",
    "    nearest_neighbor_ids1 = distances1.argsort()[:k]\n",
    "    nearest_neighbor_ids2 = distances2.argsort()[:k]\n",
    "    nearest_neighbor_ids3 = distances3.argsort()[:k]\n",
    "    print(nearest_neighbor_ids1)\n",
    "    nearest_neighbor_rings1 = y[nearest_neighbor_ids1]\n",
    "    nearest_neighbor_rings2 = y[nearest_neighbor_ids2]\n",
    "    nearest_neighbor_rings3 = y[nearest_neighbor_ids3]\n",
    "\n",
    "    if mode(nearest_neighbor_rings1) == 0:\n",
    "        print(f'chip1: [-0.3, 1.0]: ==> Fail')\n",
    "    elif mode(nearest_neighbor_rings1) == 1:\n",
    "        print(f'chip1: [-0.3, 1.0]: ==> OK')\n",
    "    if mode(nearest_neighbor_rings2) == 0:\n",
    "        print(f'chip2: [-0.5, -0.1]: ==> Fail')\n",
    "    elif mode(nearest_neighbor_rings2) == 1:\n",
    "        print(f'chip2: [-0.5, -0.1]: ==> OK')\n",
    "    if mode(nearest_neighbor_rings3) == 0:\n",
    "        print(f'chip3: [0.6, 0.0]: ==> Fail')\n",
    "    elif mode(nearest_neighbor_rings3) == 1:\n",
    "        print(f'chip3: [0.6, 0.0]: ==> OK')"
   ]
  },
  {
   "cell_type": "code",
   "execution_count": 26,
   "metadata": {},
   "outputs": [
    {
     "data": {
      "text/plain": [
       "[1.0,\n",
       " 1.0,\n",
       " 1.0,\n",
       " 1.0,\n",
       " 1.0,\n",
       " 1.0,\n",
       " 1.0,\n",
       " 1.0,\n",
       " 1.0,\n",
       " 1.0,\n",
       " 1.0,\n",
       " 1.0,\n",
       " 1.0,\n",
       " 1.0,\n",
       " 1.0,\n",
       " 1.0,\n",
       " 1.0,\n",
       " 1.0,\n",
       " 1.0,\n",
       " 0.0,\n",
       " 0.0,\n",
       " 1.0,\n",
       " 0.0,\n",
       " 0.0,\n",
       " 0.0,\n",
       " 1.0,\n",
       " 1.0,\n",
       " 1.0,\n",
       " 1.0,\n",
       " 1.0,\n",
       " 0.0,\n",
       " 1.0,\n",
       " 1.0,\n",
       " 1.0,\n",
       " 1.0,\n",
       " 1.0,\n",
       " 1.0,\n",
       " 1.0,\n",
       " 1.0,\n",
       " 1.0,\n",
       " 1.0,\n",
       " 1.0,\n",
       " 1.0,\n",
       " 1.0,\n",
       " 1.0,\n",
       " 1.0,\n",
       " 1.0,\n",
       " 1.0,\n",
       " 1.0,\n",
       " 1.0,\n",
       " 1.0,\n",
       " 1.0,\n",
       " 1.0,\n",
       " 1.0,\n",
       " 1.0,\n",
       " 1.0,\n",
       " 1.0,\n",
       " 1.0,\n",
       " 0.0,\n",
       " 0.0,\n",
       " 1.0,\n",
       " 0.0,\n",
       " 0.0,\n",
       " 0.0,\n",
       " 0.0,\n",
       " 0.0,\n",
       " 0.0,\n",
       " 0.0,\n",
       " 0.0,\n",
       " 0.0,\n",
       " 0.0,\n",
       " 0.0,\n",
       " 0.0,\n",
       " 0.0,\n",
       " 0.0,\n",
       " 1.0,\n",
       " 1.0,\n",
       " 1.0,\n",
       " 0.0,\n",
       " 0.0,\n",
       " 1.0,\n",
       " 0.0,\n",
       " 0.0,\n",
       " 0.0,\n",
       " 0.0,\n",
       " 0.0,\n",
       " 0.0,\n",
       " 0.0,\n",
       " 1.0,\n",
       " 0.0,\n",
       " 0.0,\n",
       " 1.0,\n",
       " 0.0,\n",
       " 0.0,\n",
       " 0.0,\n",
       " 0.0,\n",
       " 0.0,\n",
       " 0.0,\n",
       " 0.0,\n",
       " 0.0,\n",
       " 0.0,\n",
       " 0.0,\n",
       " 0.0,\n",
       " 0.0,\n",
       " 0.0,\n",
       " 0.0,\n",
       " 0.0,\n",
       " 1.0,\n",
       " 0.0,\n",
       " 0.0,\n",
       " 0.0,\n",
       " 0.0,\n",
       " 0.0,\n",
       " 0.0,\n",
       " 1.0,\n",
       " 0.0,\n",
       " 0.0,\n",
       " 1.0]"
      ]
     },
     "execution_count": 26,
     "metadata": {},
     "output_type": "execute_result"
    }
   ],
   "source": [
    "# Lista contains the predicted answer with x neighbors\n",
    "lista = []\n",
    "k = 3\n",
    "for index, row in df.iterrows():\n",
    "    distances1 = np.linalg.norm(X - row[['A', 'B']], axis=1)\n",
    "    nearest_neighbor_ids1 = distances1.argsort()[:k]\n",
    "    nearest_neighbor_rings1 = y[nearest_neighbor_ids1]\n",
    "    nearest_neighbor_rings1 = mode(nearest_neighbor_rings1)\n",
    "    lista.append(nearest_neighbor_rings1)\n",
    "lista"
   ]
  },
  {
   "cell_type": "code",
   "execution_count": 27,
   "metadata": {},
   "outputs": [
    {
     "data": {
      "text/plain": [
       "118"
      ]
     },
     "execution_count": 27,
     "metadata": {},
     "output_type": "execute_result"
    }
   ],
   "source": [
    "# X and y as numpy arrays.\n",
    "X_ar = np.array(X)\n",
    "y_ar = np.array(y)\n",
    "y_ar = y_ar.astype('int')\n",
    "y_ar.size"
   ]
  },
  {
   "cell_type": "code",
   "execution_count": 28,
   "metadata": {},
   "outputs": [
    {
     "data": {
      "text/plain": [
       "array([1, 1, 1, 1, 1, 1, 1, 1, 1, 1, 1, 1, 1, 1, 1, 1, 1, 1, 1, 0, 0, 1,\n",
       "       0, 0, 0, 1, 1, 1, 1, 1, 0, 1, 1, 1, 1, 1, 1, 1, 1, 1, 1, 1, 1, 1,\n",
       "       1, 1, 1, 1, 1, 1, 1, 1, 1, 1, 1, 1, 1, 1, 0, 0, 1, 0, 0, 0, 0, 0,\n",
       "       0, 0, 0, 0, 0, 0, 0, 0, 0, 1, 1, 1, 0, 0, 1, 0, 0, 0, 0, 0, 0, 0,\n",
       "       1, 0, 0, 1, 0, 0, 0, 0, 0, 0, 0, 0, 0, 0, 0, 0, 0, 0, 0, 1, 0, 0,\n",
       "       0, 0, 0, 0, 1, 0, 0, 1])"
      ]
     },
     "execution_count": 28,
     "metadata": {},
     "output_type": "execute_result"
    }
   ],
   "source": [
    "# Lista to array and int.\n",
    "arr = np.array(lista)\n",
    "arr = arr.astype('int')\n",
    "arr"
   ]
  },
  {
   "cell_type": "code",
   "execution_count": 29,
   "metadata": {},
   "outputs": [],
   "source": [
    "h = 0.8\n",
    "cmap_light = ListedColormap(['#FFAAAA', '#AAFFAA'])\n",
    "cmap_bold = ListedColormap(['#FF0000', '#00FF00'])\n",
    "x_min, x_max = X_ar[:, 0].min() - 1, X_ar[:, 0].max() + 1\n",
    "y_min, y_max = X_ar[:, 1].min() - 1, X_ar[:, 1].max() + 1\n",
    "xx, yy = np.meshgrid(np.arange(x_min, x_max, h),\n",
    "np.arange(y_min, y_max, h))"
   ]
  },
  {
   "cell_type": "code",
   "execution_count": 30,
   "metadata": {},
   "outputs": [
    {
     "ename": "ValueError",
     "evalue": "cannot reshape array of size 118 into shape (5,5)",
     "output_type": "error",
     "traceback": [
      "\u001b[0;31m---------------------------------------------------------------------------\u001b[0m",
      "\u001b[0;31mValueError\u001b[0m                                Traceback (most recent call last)",
      "\u001b[0;32m/tmp/ipykernel_669017/1581781569.py\u001b[0m in \u001b[0;36m<module>\u001b[0;34m\u001b[0m\n\u001b[0;32m----> 1\u001b[0;31m \u001b[0marr\u001b[0m \u001b[0;34m=\u001b[0m \u001b[0marr\u001b[0m\u001b[0;34m.\u001b[0m\u001b[0mreshape\u001b[0m\u001b[0;34m(\u001b[0m\u001b[0mxx\u001b[0m\u001b[0;34m.\u001b[0m\u001b[0mshape\u001b[0m\u001b[0;34m)\u001b[0m\u001b[0;34m\u001b[0m\u001b[0;34m\u001b[0m\u001b[0m\n\u001b[0m",
      "\u001b[0;31mValueError\u001b[0m: cannot reshape array of size 118 into shape (5,5)"
     ]
    }
   ],
   "source": [
    "arr = arr.reshape(xx.shape)"
   ]
  },
  {
   "cell_type": "code",
   "execution_count": null,
   "metadata": {},
   "outputs": [],
   "source": [
    "plt.figure()\n",
    "plt.pcolormesh(xx, yy, arr, cmap=cmap_light)\n",
    "# Plot also the training points\n",
    "plt.scatter(X[:, 0], X[:, 1], c=y, cmap=cmap_bold)\n",
    "plt.xlim(xx.min(), xx.max())\n",
    "plt.ylim(yy.min(), yy.max())\n",
    "plt.title(\"3-Class classification (k = %i)\" % (n_neighbors))\n",
    "plt.show()"
   ]
  },
  {
   "cell_type": "code",
   "execution_count": null,
   "metadata": {},
   "outputs": [],
   "source": []
  },
  {
   "cell_type": "code",
   "execution_count": null,
   "metadata": {},
   "outputs": [],
   "source": [
    "arr.shape"
   ]
  },
  {
   "cell_type": "code",
   "execution_count": null,
   "metadata": {},
   "outputs": [],
   "source": [
    "#arr.size()"
   ]
  },
  {
   "cell_type": "code",
   "execution_count": null,
   "metadata": {},
   "outputs": [],
   "source": [
    "arr = arr.reshape(xx.shape)"
   ]
  },
  {
   "cell_type": "code",
   "execution_count": null,
   "metadata": {},
   "outputs": [],
   "source": [
    "\n",
    "#plt.figure()\n",
    "#plt.pcolormesh(xx, yy, arr, cmap=cmap_light)\n",
    "#arr.shape()"
   ]
  },
  {
   "cell_type": "code",
   "execution_count": null,
   "metadata": {},
   "outputs": [],
   "source": []
  }
 ],
 "metadata": {
  "kernelspec": {
   "display_name": "Python 3 (ipykernel)",
   "language": "python",
   "name": "python3"
  },
  "language_info": {
   "codemirror_mode": {
    "name": "ipython",
    "version": 3
   },
   "file_extension": ".py",
   "mimetype": "text/x-python",
   "name": "python",
   "nbconvert_exporter": "python",
   "pygments_lexer": "ipython3",
   "version": "3.10.12"
  }
 },
 "nbformat": 4,
 "nbformat_minor": 4
}
